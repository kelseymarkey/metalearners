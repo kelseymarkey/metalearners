{
 "cells": [
  {
   "cell_type": "markdown",
   "metadata": {},
   "source": [
    "# This notebook checks the assumptions of the 6 data simulations.\n",
    "\n",
    "### For each simulation, looks at sample 1\n",
    "### For each sample, looks at 5 randomly chosen features (of the 20 generated).\n",
    "### Results are for datasets with training set size of 300,000 and test set size of 100,000.\n",
    "\n",
    "#### Alene Rhea, May 10, 2021"
   ]
  },
  {
   "cell_type": "code",
   "execution_count": 1,
   "metadata": {},
   "outputs": [],
   "source": [
    "import pandas as pd\n",
    "import pathlib, os, pickle\n",
    "import matplotlib.pyplot as plt\n",
    "from scipy.stats import pearsonr\n",
    "import numpy as np\n",
    "import random"
   ]
  },
  {
   "cell_type": "code",
   "execution_count": 2,
   "metadata": {},
   "outputs": [],
   "source": [
    "base_repo_dir = pathlib.Path(os.getcwd())\n",
    "\n",
    "# Set random state\n",
    "random.seed(42)\n",
    "\n",
    "# Set number of samples and number of features to test\n",
    "n_samps = 2\n",
    "n_xfeats = 5\n",
    "\n",
    "# Look specifically at sample 1 rather then randomly choosing\n",
    "# (Implemented this way bc only have these samples saved on local)\n",
    "samps = [1]\n",
    "\n",
    "# Function to get estimated y0 and y1 \n",
    "# when real (non-noisey) y0/y1 not exported\n",
    "def get_potential_outcomes(df):\n",
    "    \n",
    "    # Initialize y0 and y1\n",
    "    df['y0'] = np.nan\n",
    "    df['y1'] = np.nan\n",
    "    \n",
    "    # Get observed outcomes\n",
    "    df.loc[df.treatment==0, 'y0'] = df.loc[df.treatment==0, 'Y']\n",
    "    df.loc[df.treatment==1, 'y1'] = df.loc[df.treatment==1, 'Y']\n",
    "    \n",
    "    # Get unobserved outcomes\n",
    "    df.loc[df.treatment==0, 'y1'] = df.loc[df.treatment==0, 'y0'] + df.loc[df.treatment==0, 'tau']\n",
    "    df.loc[df.treatment==1, 'y0'] = df.loc[df.treatment==1, 'y1'] - df.loc[df.treatment==1, 'tau']\n",
    "    \n",
    "    return df"
   ]
  },
  {
   "cell_type": "code",
   "execution_count": 3,
   "metadata": {},
   "outputs": [
    {
     "data": {
      "application/javascript": [
       "IPython.OutputArea.prototype._should_scroll = function(lines) {\n",
       "    return false;\n",
       "}\n"
      ],
      "text/plain": [
       "<IPython.core.display.Javascript object>"
      ]
     },
     "metadata": {},
     "output_type": "display_data"
    }
   ],
   "source": [
    "%%javascript\n",
    "IPython.OutputArea.prototype._should_scroll = function(lines) {\n",
    "    return false;\n",
    "}"
   ]
  },
  {
   "cell_type": "markdown",
   "metadata": {},
   "source": [
    "## Sim A"
   ]
  },
  {
   "cell_type": "code",
   "execution_count": 4,
   "metadata": {},
   "outputs": [
    {
     "name": "stdout",
     "output_type": "stream",
     "text": [
      "\n",
      "Testing Sample 1 of Simulation A\n",
      "Visually check that x4, x1, x9, x8, and x17 are approximately normal...\n"
     ]
    },
    {
     "data": {
      "image/png": "[encoded data removed]",
      "text/plain": [
       "<Figure size 864x432 with 10 Axes>"
      ]
     },
     "metadata": {
      "needs_background": "light"
     },
     "output_type": "display_data"
    },
    {
     "name": "stdout",
     "output_type": "stream",
     "text": [
      "All propensity scores are 0.01? True\n",
      "Proportion of training set with treatment=1 (should be close to 0.01):  0.0099\n",
      "Proportion of test set with treatment=1 (should be close to 0.01):  0.01\n",
      "For training set, E[Y0 | x1 > 0.5 ] - E[Y0 | x1 <= 0.5 ] (should be about 5):  1.0405\n",
      "For test set, E[Y0 | x1 > 0.5 ] - E[Y0 | x1 <= 0.5 ] (should be about 5):  8.059\n",
      "Wherever x2>0.1, tau=8?  True\n",
      "Wherever x2<=0.1, tau=0?  True\n"
     ]
    }
   ],
   "source": [
    "# Choose 2 samples of simA to test\n",
    "#Asamps = random.sample(list(np.arange(1,31,1)), n_samps)\n",
    "\n",
    "for samp in samps:\n",
    "    print('\\nTesting Sample {} of Simulation A'.format(samp))\n",
    "    \n",
    "    # Read in test and train\n",
    "    tr = pd.read_parquet(base_repo_dir / 'data' / 'simA' / 'samp{}_train.parquet'.format(samp))\n",
    "    te = pd.read_parquet(base_repo_dir / 'data' / 'simA' / 'samp{}_test.parquet'.format(samp))\n",
    "    \n",
    "    # Read in extra columns\n",
    "    tr_extra = pd.read_parquet(base_repo_dir / 'data' / 'simA' / 'samp{}_train_extra.parquet'.format(samp))\n",
    "    te_extra = pd.read_parquet(base_repo_dir / 'data' / 'simA' / 'samp{}_test_extra.parquet'.format(samp))\n",
    "    \n",
    "    # Concatenate extra cols with regular cols\n",
    "    tr = pd.concat([tr, tr_extra], axis=1)\n",
    "    te = pd.concat([te, te_extra], axis=1)\n",
    "\n",
    "    #Choose 5 X features to test\n",
    "    xfeats = random.sample(list(np.arange(1,21,1)), n_xfeats)\n",
    "    print('Visually check that x{}, x{}, x{}, x{}, and x{} are approximately normal...'.format(*xfeats))\n",
    "    \n",
    "    fig, ax = plt.subplots(2,n_xfeats, figsize=(12,6), sharey=True)\n",
    "    for i, x in enumerate(xfeats):\n",
    "        ax[0][i].hist(tr['x'+str(x)])\n",
    "        ax[1][i].hist(tr['x'+str(x)])\n",
    "        ax[0][i].set_title('x'+str(x))\n",
    "    ax[0][0].set_ylabel('Training Set Frequency')\n",
    "    ax[1][0].set_ylabel('Test Set Frequency')\n",
    "    plt.show()\n",
    "    \n",
    "    print('All propensity scores are 0.01?', (all(tr.pscore==.01)&all(te.pscore==.01)))\n",
    "    print('Proportion of training set with treatment=1 (should be close to 0.01): ', \n",
    "          round(sum(tr.treatment==1)/len(tr), 4))\n",
    "    print('Proportion of test set with treatment=1 (should be close to 0.01): ', \n",
    "          round(sum(te.treatment==1)/len(te), 4))\n",
    "    \n",
    "    print('For training set, E[Y0 | x1 > 0.5 ] - E[Y0 | x1 <= 0.5 ] (should be about 5): ',\n",
    "          round(np.mean(tr[tr.x1>0.5]['Y0']) - np.mean(tr[tr.x1<=0.5]['Y0']), 4))\n",
    "    \n",
    "    print('For test set, E[Y0 | x1 > 0.5 ] - E[Y0 | x1 <= 0.5 ] (should be about 5): ',\n",
    "          round(np.mean(te[te.x1>0.5]['Y0']) - np.mean(te[te.x1<=0.5]['Y0']), 4))\n",
    "    \n",
    "    print('Wherever x2>0.1, tau=8? ', all(np.isclose(tr[tr.x2>0.1]['tau'],8)) \\\n",
    "                                    & all(np.isclose(te[te.x2>0.1]['tau'],8)))\n",
    "    print('Wherever x2<=0.1, tau=0? ', all(np.isclose(tr[tr.x2<=0.1]['tau'],0)) \\\n",
    "                                    & all(np.isclose(te[te.x2<=0.1]['tau'],0)))\n",
    "    "
   ]
  },
  {
   "cell_type": "markdown",
   "metadata": {},
   "source": [
    "#### Difference in Mean y0 (conditioned on x1) is questionable. Distance from 5 likely due to the fact that we have not accounted for the effect that x1 being greater or smaller than 0.5 will have on $x^T\\beta$. Expectation of 5 should hold across samples of beta. We see (weak) evidence of this if we average what we see in train and what we see in test. All other checks passed. "
   ]
  },
  {
   "cell_type": "markdown",
   "metadata": {},
   "source": [
    "## Sim B"
   ]
  },
  {
   "cell_type": "code",
   "execution_count": 5,
   "metadata": {},
   "outputs": [
    {
     "name": "stdout",
     "output_type": "stream",
     "text": [
      "\n",
      "Testing Sample 1 of Simulation B\n",
      "Visually check that x5, x4, x18, x3, and x14 are approximately normal...\n"
     ]
    },
    {
     "data": {
      "image/png": "[encoded data removed]",
      "text/plain": [
       "<Figure size 864x432 with 10 Axes>"
      ]
     },
     "metadata": {
      "needs_background": "light"
     },
     "output_type": "display_data"
    },
    {
     "name": "stdout",
     "output_type": "stream",
     "text": [
      "All propensity scores are 0.5? True\n",
      "Proportion of training set with treatment=1 (should be close to 0.5):  0.5015\n",
      "Proportion of test set with treatment=1 (should be close to 0.5):  0.4999\n"
     ]
    }
   ],
   "source": [
    "# Choose 2 samples of simB to test\n",
    "# Bsamps = random.sample(list(np.arange(1,31,1)), n_samps)\n",
    "\n",
    "for samp in samps:\n",
    "    print('\\nTesting Sample {} of Simulation B'.format(samp))\n",
    "    \n",
    "    # Read in test and train\n",
    "    tr = pd.read_parquet(base_repo_dir / 'data' / 'simB' / 'samp{}_train.parquet'.format(samp))\n",
    "    te = pd.read_parquet(base_repo_dir / 'data' / 'simB' / 'samp{}_test.parquet'.format(samp))\n",
    "    \n",
    "    # Read in extra columns\n",
    "    tr_extra = pd.read_parquet(base_repo_dir / 'data' / 'simB' / 'samp{}_train_extra.parquet'.format(samp))\n",
    "    te_extra = pd.read_parquet(base_repo_dir / 'data' / 'simB' / 'samp{}_test_extra.parquet'.format(samp))\n",
    "    \n",
    "    # Concatenate extra cols with regular cols\n",
    "    tr = pd.concat([tr, tr_extra], axis=1)\n",
    "    te = pd.concat([te, te_extra], axis=1)\n",
    "\n",
    "    #Choose 5 X features to test\n",
    "    xfeats = random.sample(list(np.arange(1,21,1)), n_xfeats)\n",
    "    print('Visually check that x{}, x{}, x{}, x{}, and x{} are approximately normal...'.format(*xfeats))\n",
    "    \n",
    "    fig, ax = plt.subplots(2,n_xfeats, figsize=(12,6), sharey=True)\n",
    "    for i, x in enumerate(xfeats):\n",
    "        ax[0][i].hist(tr['x'+str(x)])\n",
    "        ax[1][i].hist(tr['x'+str(x)])\n",
    "        ax[0][i].set_title('x'+str(x))\n",
    "    ax[0][0].set_ylabel('Training Set Frequency')\n",
    "    ax[1][0].set_ylabel('Test Set Frequency')\n",
    "    plt.show()\n",
    "    \n",
    "    print('All propensity scores are 0.5?', (all(tr.pscore==.5)&all(te.pscore==.5)))\n",
    "    print('Proportion of training set with treatment=1 (should be close to 0.5): ', \n",
    "          round(sum(tr.treatment==1)/len(tr), 4))\n",
    "    print('Proportion of test set with treatment=1 (should be close to 0.5): ', \n",
    "          round(sum(te.treatment==1)/len(te), 4))\n"
   ]
  },
  {
   "cell_type": "markdown",
   "metadata": {},
   "source": [
    "#### All checks passed."
   ]
  },
  {
   "cell_type": "markdown",
   "metadata": {},
   "source": [
    "## Sim C"
   ]
  },
  {
   "cell_type": "code",
   "execution_count": 6,
   "metadata": {},
   "outputs": [
    {
     "name": "stdout",
     "output_type": "stream",
     "text": [
      "\n",
      "Testing Sample 1 of Simulation C\n",
      "Visually check that x2, x1, x3, x7, and x8 are approximately normal...\n"
     ]
    },
    {
     "data": {
      "image/png": "[encoded data removed]",
      "text/plain": [
       "<Figure size 864x432 with 10 Axes>"
      ]
     },
     "metadata": {
      "needs_background": "light"
     },
     "output_type": "display_data"
    },
    {
     "name": "stdout",
     "output_type": "stream",
     "text": [
      "All propensity scores are 0.5? True\n",
      "Proportion of training set with treatment=1 (should be close to 0.5):  0.5015\n",
      "Proportion of test set with treatment=1 (should be close to 0.5):  0.4999\n",
      "Trainig set Y0 is product of transformed x1 and x2? True\n",
      "Test set Y0 is product of transformed x1 and x2? True\n",
      "Trainig set Y1 is product of transformed x1 and x2? True\n",
      "Test set Y1 is product of transformed x1 and x2? True\n"
     ]
    }
   ],
   "source": [
    "# Choose 2 samples of simC to test\n",
    "# Csamps = random.sample(list(np.arange(1,31,1)), n_samps)\n",
    "\n",
    "# Complex non-linear transformation function from SI 3\n",
    "def simC_transform(x):\n",
    "    x = x.values\n",
    "    return 2/( 1 + np.exp(-12*(x - 0.5)))\n",
    "\n",
    "for samp in samps:\n",
    "    print('\\nTesting Sample {} of Simulation C'.format(samp))\n",
    "    \n",
    "    # Read in test and train\n",
    "    tr = pd.read_parquet(base_repo_dir / 'data' / 'simC' / 'samp{}_train.parquet'.format(samp))\n",
    "    te = pd.read_parquet(base_repo_dir / 'data' / 'simC' / 'samp{}_test.parquet'.format(samp))\n",
    "    \n",
    "    # Read in extra columns\n",
    "    tr_extra = pd.read_parquet(base_repo_dir / 'data' / 'simC' / 'samp{}_train_extra.parquet'.format(samp))\n",
    "    te_extra = pd.read_parquet(base_repo_dir / 'data' / 'simC' / 'samp{}_test_extra.parquet'.format(samp))\n",
    "    \n",
    "    # Concatenate extra cols with regular cols\n",
    "    tr = pd.concat([tr, tr_extra], axis=1)\n",
    "    te = pd.concat([te, te_extra], axis=1)\n",
    "\n",
    "    #Choose 5 X features to test\n",
    "    xfeats = random.sample(list(np.arange(1,21,1)), n_xfeats)\n",
    "    print('Visually check that x{}, x{}, x{}, x{}, and x{} are approximately normal...'.format(*xfeats))\n",
    "    \n",
    "    fig, ax = plt.subplots(2,n_xfeats, figsize=(12,6), sharey=True)\n",
    "    for i, x in enumerate(xfeats):\n",
    "        ax[0][i].hist(tr['x'+str(x)])\n",
    "        ax[1][i].hist(tr['x'+str(x)])\n",
    "        ax[0][i].set_title('x'+str(x))\n",
    "    ax[0][0].set_ylabel('Training Set Frequency')\n",
    "    ax[1][0].set_ylabel('Test Set Frequency')\n",
    "    plt.show()\n",
    "    \n",
    "    print('All propensity scores are 0.5?', (all(tr.pscore==.5)&all(te.pscore==.5)))\n",
    "    print('Proportion of training set with treatment=1 (should be close to 0.5): ', \n",
    "          round(sum(tr.treatment==1)/len(tr), 4))\n",
    "    print('Proportion of test set with treatment=1 (should be close to 0.5): ', \n",
    "          round(sum(te.treatment==1)/len(te), 4))\n",
    "    \n",
    "    print('Trainig set Y0 is product of transformed x1 and x2?', \n",
    "          all(np.isclose(tr.Y0, -0.5*simC_transform(tr.x1)*simC_transform(tr.x2))))\n",
    "    print('Test set Y0 is product of transformed x1 and x2?', \n",
    "          all(np.isclose(te.Y0, -0.5*simC_transform(te.x1)*simC_transform(te.x2))))\n",
    "    print('Trainig set Y1 is product of transformed x1 and x2?', \n",
    "          all(np.isclose(tr.Y1, 0.5*simC_transform(tr.x1)*simC_transform(tr.x2))))\n",
    "    print('Test set Y1 is product of transformed x1 and x2?', \n",
    "          all(np.isclose(te.Y1, 0.5*simC_transform(te.x1)*simC_transform(te.x2))))\n"
   ]
  },
  {
   "cell_type": "markdown",
   "metadata": {},
   "source": [
    "#### All checks passed."
   ]
  },
  {
   "cell_type": "markdown",
   "metadata": {},
   "source": [
    "## Sim D"
   ]
  },
  {
   "cell_type": "code",
   "execution_count": 7,
   "metadata": {},
   "outputs": [
    {
     "name": "stdout",
     "output_type": "stream",
     "text": [
      "\n",
      "Testing Sample 1 of Simulation D\n",
      "Visually check that x17, x1, x18, x7, and x14 are approximately uniform...\n"
     ]
    },
    {
     "data": {
      "image/png": "[encoded data removed]",
      "text/plain": [
       "<Figure size 864x432 with 10 Axes>"
      ]
     },
     "metadata": {
      "needs_background": "light"
     },
     "output_type": "display_data"
    },
    {
     "name": "stdout",
     "output_type": "stream",
     "text": [
      "Training Set Feature Correlation Matrix (should be 1 along diagonal, and close to 0 elsewhere)\n"
     ]
    },
    {
     "data": {
      "text/html": [
       "<div>\n",
       "<style scoped>\n",
       "    .dataframe tbody tr th:only-of-type {\n",
       "        vertical-align: middle;\n",
       "    }\n",
       "\n",
       "    .dataframe tbody tr th {\n",
       "        vertical-align: top;\n",
       "    }\n",
       "\n",
       "    .dataframe thead th {\n",
       "        text-align: right;\n",
       "    }\n",
       "</style>\n",
       "<table border=\"1\" class=\"dataframe\">\n",
       "  <thead>\n",
       "    <tr style=\"text-align: right;\">\n",
       "      <th></th>\n",
       "      <th>x17</th>\n",
       "      <th>x1</th>\n",
       "      <th>x18</th>\n",
       "      <th>x7</th>\n",
       "      <th>x14</th>\n",
       "    </tr>\n",
       "  </thead>\n",
       "  <tbody>\n",
       "    <tr>\n",
       "      <th>x17</th>\n",
       "      <td>1.000000</td>\n",
       "      <td>0.000406</td>\n",
       "      <td>-0.003011</td>\n",
       "      <td>-0.003399</td>\n",
       "      <td>0.001511</td>\n",
       "    </tr>\n",
       "    <tr>\n",
       "      <th>x1</th>\n",
       "      <td>0.000406</td>\n",
       "      <td>1.000000</td>\n",
       "      <td>-0.000642</td>\n",
       "      <td>0.000656</td>\n",
       "      <td>0.000747</td>\n",
       "    </tr>\n",
       "    <tr>\n",
       "      <th>x18</th>\n",
       "      <td>-0.003011</td>\n",
       "      <td>-0.000642</td>\n",
       "      <td>1.000000</td>\n",
       "      <td>0.000346</td>\n",
       "      <td>0.001647</td>\n",
       "    </tr>\n",
       "    <tr>\n",
       "      <th>x7</th>\n",
       "      <td>-0.003399</td>\n",
       "      <td>0.000656</td>\n",
       "      <td>0.000346</td>\n",
       "      <td>1.000000</td>\n",
       "      <td>-0.003444</td>\n",
       "    </tr>\n",
       "    <tr>\n",
       "      <th>x14</th>\n",
       "      <td>0.001511</td>\n",
       "      <td>0.000747</td>\n",
       "      <td>0.001647</td>\n",
       "      <td>-0.003444</td>\n",
       "      <td>1.000000</td>\n",
       "    </tr>\n",
       "  </tbody>\n",
       "</table>\n",
       "</div>"
      ],
      "text/plain": [
       "          x17        x1       x18        x7       x14\n",
       "x17  1.000000  0.000406 -0.003011 -0.003399  0.001511\n",
       "x1   0.000406  1.000000 -0.000642  0.000656  0.000747\n",
       "x18 -0.003011 -0.000642  1.000000  0.000346  0.001647\n",
       "x7  -0.003399  0.000656  0.000346  1.000000 -0.003444\n",
       "x14  0.001511  0.000747  0.001647 -0.003444  1.000000"
      ]
     },
     "metadata": {},
     "output_type": "display_data"
    },
    {
     "name": "stdout",
     "output_type": "stream",
     "text": [
      "\n",
      "Test Set Feature Correlation Matrix (should be 1 along diagonal, and close to 0 elsewhere)\n"
     ]
    },
    {
     "data": {
      "text/html": [
       "<div>\n",
       "<style scoped>\n",
       "    .dataframe tbody tr th:only-of-type {\n",
       "        vertical-align: middle;\n",
       "    }\n",
       "\n",
       "    .dataframe tbody tr th {\n",
       "        vertical-align: top;\n",
       "    }\n",
       "\n",
       "    .dataframe thead th {\n",
       "        text-align: right;\n",
       "    }\n",
       "</style>\n",
       "<table border=\"1\" class=\"dataframe\">\n",
       "  <thead>\n",
       "    <tr style=\"text-align: right;\">\n",
       "      <th></th>\n",
       "      <th>x17</th>\n",
       "      <th>x1</th>\n",
       "      <th>x18</th>\n",
       "      <th>x7</th>\n",
       "      <th>x14</th>\n",
       "    </tr>\n",
       "  </thead>\n",
       "  <tbody>\n",
       "    <tr>\n",
       "      <th>x17</th>\n",
       "      <td>1.000000</td>\n",
       "      <td>0.002385</td>\n",
       "      <td>-0.004161</td>\n",
       "      <td>-0.000571</td>\n",
       "      <td>-0.006918</td>\n",
       "    </tr>\n",
       "    <tr>\n",
       "      <th>x1</th>\n",
       "      <td>0.002385</td>\n",
       "      <td>1.000000</td>\n",
       "      <td>-0.005396</td>\n",
       "      <td>-0.003937</td>\n",
       "      <td>0.005113</td>\n",
       "    </tr>\n",
       "    <tr>\n",
       "      <th>x18</th>\n",
       "      <td>-0.004161</td>\n",
       "      <td>-0.005396</td>\n",
       "      <td>1.000000</td>\n",
       "      <td>-0.000507</td>\n",
       "      <td>0.001232</td>\n",
       "    </tr>\n",
       "    <tr>\n",
       "      <th>x7</th>\n",
       "      <td>-0.000571</td>\n",
       "      <td>-0.003937</td>\n",
       "      <td>-0.000507</td>\n",
       "      <td>1.000000</td>\n",
       "      <td>-0.007906</td>\n",
       "    </tr>\n",
       "    <tr>\n",
       "      <th>x14</th>\n",
       "      <td>-0.006918</td>\n",
       "      <td>0.005113</td>\n",
       "      <td>0.001232</td>\n",
       "      <td>-0.007906</td>\n",
       "      <td>1.000000</td>\n",
       "    </tr>\n",
       "  </tbody>\n",
       "</table>\n",
       "</div>"
      ],
      "text/plain": [
       "          x17        x1       x18        x7       x14\n",
       "x17  1.000000  0.002385 -0.004161 -0.000571 -0.006918\n",
       "x1   0.002385  1.000000 -0.005396 -0.003937  0.005113\n",
       "x18 -0.004161 -0.005396  1.000000 -0.000507  0.001232\n",
       "x7  -0.000571 -0.003937 -0.000507  1.000000 -0.007906\n",
       "x14 -0.006918  0.005113  0.001232 -0.007906  1.000000"
      ]
     },
     "metadata": {},
     "output_type": "display_data"
    },
    {
     "name": "stdout",
     "output_type": "stream",
     "text": [
      "\n",
      "Training set propensity score correlations with X (should be close to 0 for all but x1): \n"
     ]
    },
    {
     "data": {
      "text/html": [
       "<div>\n",
       "<style scoped>\n",
       "    .dataframe tbody tr th:only-of-type {\n",
       "        vertical-align: middle;\n",
       "    }\n",
       "\n",
       "    .dataframe tbody tr th {\n",
       "        vertical-align: top;\n",
       "    }\n",
       "\n",
       "    .dataframe thead th {\n",
       "        text-align: right;\n",
       "    }\n",
       "</style>\n",
       "<table border=\"1\" class=\"dataframe\">\n",
       "  <thead>\n",
       "    <tr style=\"text-align: right;\">\n",
       "      <th></th>\n",
       "      <th>R</th>\n",
       "      <th>p</th>\n",
       "    </tr>\n",
       "  </thead>\n",
       "  <tbody>\n",
       "    <tr>\n",
       "      <th>x17</th>\n",
       "      <td>0.000971</td>\n",
       "      <td>0.594826</td>\n",
       "    </tr>\n",
       "    <tr>\n",
       "      <th>x1</th>\n",
       "      <td>-0.753204</td>\n",
       "      <td>0.000000</td>\n",
       "    </tr>\n",
       "    <tr>\n",
       "      <th>x18</th>\n",
       "      <td>0.000559</td>\n",
       "      <td>0.759635</td>\n",
       "    </tr>\n",
       "    <tr>\n",
       "      <th>x7</th>\n",
       "      <td>-0.001164</td>\n",
       "      <td>0.523772</td>\n",
       "    </tr>\n",
       "    <tr>\n",
       "      <th>x14</th>\n",
       "      <td>0.001520</td>\n",
       "      <td>0.405191</td>\n",
       "    </tr>\n",
       "  </tbody>\n",
       "</table>\n",
       "</div>"
      ],
      "text/plain": [
       "            R         p\n",
       "x17  0.000971  0.594826\n",
       "x1  -0.753204  0.000000\n",
       "x18  0.000559  0.759635\n",
       "x7  -0.001164  0.523772\n",
       "x14  0.001520  0.405191"
      ]
     },
     "metadata": {},
     "output_type": "display_data"
    },
    {
     "name": "stdout",
     "output_type": "stream",
     "text": [
      "\n",
      "Test set propensity score correlations with X (should be close to 0 for all but x1): \n"
     ]
    },
    {
     "data": {
      "text/html": [
       "<div>\n",
       "<style scoped>\n",
       "    .dataframe tbody tr th:only-of-type {\n",
       "        vertical-align: middle;\n",
       "    }\n",
       "\n",
       "    .dataframe tbody tr th {\n",
       "        vertical-align: top;\n",
       "    }\n",
       "\n",
       "    .dataframe thead th {\n",
       "        text-align: right;\n",
       "    }\n",
       "</style>\n",
       "<table border=\"1\" class=\"dataframe\">\n",
       "  <thead>\n",
       "    <tr style=\"text-align: right;\">\n",
       "      <th></th>\n",
       "      <th>R</th>\n",
       "      <th>p</th>\n",
       "    </tr>\n",
       "  </thead>\n",
       "  <tbody>\n",
       "    <tr>\n",
       "      <th>x17</th>\n",
       "      <td>0.002608</td>\n",
       "      <td>0.409588</td>\n",
       "    </tr>\n",
       "    <tr>\n",
       "      <th>x1</th>\n",
       "      <td>-0.751270</td>\n",
       "      <td>0.000000</td>\n",
       "    </tr>\n",
       "    <tr>\n",
       "      <th>x18</th>\n",
       "      <td>-0.007167</td>\n",
       "      <td>0.023428</td>\n",
       "    </tr>\n",
       "    <tr>\n",
       "      <th>x7</th>\n",
       "      <td>-0.000640</td>\n",
       "      <td>0.839728</td>\n",
       "    </tr>\n",
       "    <tr>\n",
       "      <th>x14</th>\n",
       "      <td>-0.002878</td>\n",
       "      <td>0.362771</td>\n",
       "    </tr>\n",
       "  </tbody>\n",
       "</table>\n",
       "</div>"
      ],
      "text/plain": [
       "            R         p\n",
       "x17  0.002608  0.409588\n",
       "x1  -0.751270  0.000000\n",
       "x18 -0.007167  0.023428\n",
       "x7  -0.000640  0.839728\n",
       "x14 -0.002878  0.362771"
      ]
     },
     "metadata": {},
     "output_type": "display_data"
    },
    {
     "name": "stdout",
     "output_type": "stream",
     "text": [
      "Y0 = 2*x1-1?  True\n",
      "All tau are 0? True\n"
     ]
    }
   ],
   "source": [
    "# Choose 2 samples of simD to test\n",
    "# Dsamps = random.sample(list(np.arange(1,31,1)), n_samps)\n",
    "\n",
    "for samp in samps:\n",
    "    print('\\nTesting Sample {} of Simulation D'.format(samp))\n",
    "    \n",
    "    # Read in test and train\n",
    "    tr = pd.read_parquet(base_repo_dir / 'data' / 'simD' / 'samp{}_train.parquet'.format(samp))\n",
    "    te = pd.read_parquet(base_repo_dir / 'data' / 'simD' / 'samp{}_test.parquet'.format(samp))\n",
    "    \n",
    "    # Read in extra columns\n",
    "    tr_extra = pd.read_parquet(base_repo_dir / 'data' / 'simD' / 'samp{}_train_extra.parquet'.format(samp))\n",
    "    te_extra = pd.read_parquet(base_repo_dir / 'data' / 'simD' / 'samp{}_test_extra.parquet'.format(samp))\n",
    "    \n",
    "    # Concatenate extra cols with regular cols\n",
    "    tr = pd.concat([tr, tr_extra], axis=1)\n",
    "    te = pd.concat([te, te_extra], axis=1)\n",
    "\n",
    "    #Choose 5 X features to test\n",
    "    xfeats = random.sample(list(np.arange(1,21,1)), n_xfeats)\n",
    "    print('Visually check that x{}, x{}, x{}, x{}, and x{} are approximately uniform...'.format(*xfeats))\n",
    "    \n",
    "    fig, ax = plt.subplots(2,n_xfeats, figsize=(12,6), sharey=True)\n",
    "    for i, x in enumerate(xfeats):\n",
    "        ax[0][i].hist(tr['x'+str(x)])\n",
    "        ax[1][i].hist(tr['x'+str(x)])\n",
    "        ax[0][i].set_title('x'+str(x))\n",
    "    ax[0][0].set_ylabel('Training Set Frequency')\n",
    "    ax[1][0].set_ylabel('Test Set Frequency')\n",
    "    plt.show()\n",
    "    \n",
    "    feat_list = ['x'+str(x) for x in xfeats]\n",
    "    \n",
    "    print('Training Set Feature Correlation Matrix (should be 1 along diagonal, and close to 0 elsewhere)')\n",
    "    display(pd.DataFrame(np.corrcoef(tr.values.T[xfeats]),\n",
    "                         index = feat_list, \n",
    "                         columns = feat_list))\n",
    "    \n",
    "    print('\\nTest Set Feature Correlation Matrix (should be 1 along diagonal, and close to 0 elsewhere)')\n",
    "    display(pd.DataFrame(np.corrcoef(te.values.T[xfeats]),\n",
    "                         index = feat_list, \n",
    "                         columns = feat_list))\n",
    "    \n",
    "    if 'x1' in feat_list:\n",
    "        long_feat_list = feat_list\n",
    "    else:\n",
    "        long_feat_list = ['x1'] + feat_list\n",
    "\n",
    "    tr_p_corrs = pd.DataFrame([pearsonr(tr[x], tr['pscore']) for x in long_feat_list], \n",
    "                              columns=['R', 'p'], index=long_feat_list)\n",
    "\n",
    "    print('\\nTraining set propensity score correlations with X (should be close to 0 for all but x1): ')\n",
    "    display(tr_p_corrs)\n",
    "    \n",
    "    te_p_corrs = pd.DataFrame([pearsonr(te[x], te['pscore']) for x in long_feat_list], \n",
    "                              columns=['R', 'p'], index=long_feat_list)\n",
    "\n",
    "    print('\\nTest set propensity score correlations with X (should be close to 0 for all but x1): ')\n",
    "    display(te_p_corrs)\n",
    "\n",
    "    \n",
    "    print('Y0 = 2*x1-1? ', all(np.isclose(tr.Y0, 2*tr.x1-1)) & all(np.isclose(te.Y0, 2*te.x1-1)))\n",
    "    \n",
    "    print('All tau are 0?', (all(tr.tau==0)&all(te.tau==0)))\n"
   ]
  },
  {
   "cell_type": "markdown",
   "metadata": {},
   "source": [
    "#### All checks passed."
   ]
  },
  {
   "cell_type": "markdown",
   "metadata": {},
   "source": [
    "## Sim E"
   ]
  },
  {
   "cell_type": "code",
   "execution_count": 8,
   "metadata": {},
   "outputs": [
    {
     "name": "stdout",
     "output_type": "stream",
     "text": [
      "\n",
      "Testing Sample 1 of Simulation E\n",
      "Visually check that x8, x15, x9, x1, and x6 are approximately uniform...\n"
     ]
    },
    {
     "data": {
      "image/png": "[encoded data removed]",
      "text/plain": [
       "<Figure size 864x432 with 10 Axes>"
      ]
     },
     "metadata": {
      "needs_background": "light"
     },
     "output_type": "display_data"
    },
    {
     "name": "stdout",
     "output_type": "stream",
     "text": [
      "Training Set Feature Correlation Matrix (should be 1 along diagonal, and close to 0 elsewhere)\n"
     ]
    },
    {
     "data": {
      "text/html": [
       "<div>\n",
       "<style scoped>\n",
       "    .dataframe tbody tr th:only-of-type {\n",
       "        vertical-align: middle;\n",
       "    }\n",
       "\n",
       "    .dataframe tbody tr th {\n",
       "        vertical-align: top;\n",
       "    }\n",
       "\n",
       "    .dataframe thead th {\n",
       "        text-align: right;\n",
       "    }\n",
       "</style>\n",
       "<table border=\"1\" class=\"dataframe\">\n",
       "  <thead>\n",
       "    <tr style=\"text-align: right;\">\n",
       "      <th></th>\n",
       "      <th>x8</th>\n",
       "      <th>x15</th>\n",
       "      <th>x9</th>\n",
       "      <th>x1</th>\n",
       "      <th>x6</th>\n",
       "    </tr>\n",
       "  </thead>\n",
       "  <tbody>\n",
       "    <tr>\n",
       "      <th>x8</th>\n",
       "      <td>1.000000</td>\n",
       "      <td>0.001552</td>\n",
       "      <td>-0.001819</td>\n",
       "      <td>-0.001214</td>\n",
       "      <td>0.001057</td>\n",
       "    </tr>\n",
       "    <tr>\n",
       "      <th>x15</th>\n",
       "      <td>0.001552</td>\n",
       "      <td>1.000000</td>\n",
       "      <td>-0.001045</td>\n",
       "      <td>-0.000304</td>\n",
       "      <td>-0.000160</td>\n",
       "    </tr>\n",
       "    <tr>\n",
       "      <th>x9</th>\n",
       "      <td>-0.001819</td>\n",
       "      <td>-0.001045</td>\n",
       "      <td>1.000000</td>\n",
       "      <td>-0.000861</td>\n",
       "      <td>0.000004</td>\n",
       "    </tr>\n",
       "    <tr>\n",
       "      <th>x1</th>\n",
       "      <td>-0.001214</td>\n",
       "      <td>-0.000304</td>\n",
       "      <td>-0.000861</td>\n",
       "      <td>1.000000</td>\n",
       "      <td>-0.002088</td>\n",
       "    </tr>\n",
       "    <tr>\n",
       "      <th>x6</th>\n",
       "      <td>0.001057</td>\n",
       "      <td>-0.000160</td>\n",
       "      <td>0.000004</td>\n",
       "      <td>-0.002088</td>\n",
       "      <td>1.000000</td>\n",
       "    </tr>\n",
       "  </tbody>\n",
       "</table>\n",
       "</div>"
      ],
      "text/plain": [
       "           x8       x15        x9        x1        x6\n",
       "x8   1.000000  0.001552 -0.001819 -0.001214  0.001057\n",
       "x15  0.001552  1.000000 -0.001045 -0.000304 -0.000160\n",
       "x9  -0.001819 -0.001045  1.000000 -0.000861  0.000004\n",
       "x1  -0.001214 -0.000304 -0.000861  1.000000 -0.002088\n",
       "x6   0.001057 -0.000160  0.000004 -0.002088  1.000000"
      ]
     },
     "metadata": {},
     "output_type": "display_data"
    },
    {
     "name": "stdout",
     "output_type": "stream",
     "text": [
      "\n",
      "Test Set Feature Correlation Matrix (should be 1 along diagonal, and close to 0 elsewhere)\n"
     ]
    },
    {
     "data": {
      "text/html": [
       "<div>\n",
       "<style scoped>\n",
       "    .dataframe tbody tr th:only-of-type {\n",
       "        vertical-align: middle;\n",
       "    }\n",
       "\n",
       "    .dataframe tbody tr th {\n",
       "        vertical-align: top;\n",
       "    }\n",
       "\n",
       "    .dataframe thead th {\n",
       "        text-align: right;\n",
       "    }\n",
       "</style>\n",
       "<table border=\"1\" class=\"dataframe\">\n",
       "  <thead>\n",
       "    <tr style=\"text-align: right;\">\n",
       "      <th></th>\n",
       "      <th>x8</th>\n",
       "      <th>x15</th>\n",
       "      <th>x9</th>\n",
       "      <th>x1</th>\n",
       "      <th>x6</th>\n",
       "    </tr>\n",
       "  </thead>\n",
       "  <tbody>\n",
       "    <tr>\n",
       "      <th>x8</th>\n",
       "      <td>1.000000</td>\n",
       "      <td>-0.000574</td>\n",
       "      <td>-0.005071</td>\n",
       "      <td>-0.001194</td>\n",
       "      <td>0.000913</td>\n",
       "    </tr>\n",
       "    <tr>\n",
       "      <th>x15</th>\n",
       "      <td>-0.000574</td>\n",
       "      <td>1.000000</td>\n",
       "      <td>0.003141</td>\n",
       "      <td>-0.004288</td>\n",
       "      <td>-0.003414</td>\n",
       "    </tr>\n",
       "    <tr>\n",
       "      <th>x9</th>\n",
       "      <td>-0.005071</td>\n",
       "      <td>0.003141</td>\n",
       "      <td>1.000000</td>\n",
       "      <td>0.001469</td>\n",
       "      <td>0.004222</td>\n",
       "    </tr>\n",
       "    <tr>\n",
       "      <th>x1</th>\n",
       "      <td>-0.001194</td>\n",
       "      <td>-0.004288</td>\n",
       "      <td>0.001469</td>\n",
       "      <td>1.000000</td>\n",
       "      <td>-0.000341</td>\n",
       "    </tr>\n",
       "    <tr>\n",
       "      <th>x6</th>\n",
       "      <td>0.000913</td>\n",
       "      <td>-0.003414</td>\n",
       "      <td>0.004222</td>\n",
       "      <td>-0.000341</td>\n",
       "      <td>1.000000</td>\n",
       "    </tr>\n",
       "  </tbody>\n",
       "</table>\n",
       "</div>"
      ],
      "text/plain": [
       "           x8       x15        x9        x1        x6\n",
       "x8   1.000000 -0.000574 -0.005071 -0.001194  0.000913\n",
       "x15 -0.000574  1.000000  0.003141 -0.004288 -0.003414\n",
       "x9  -0.005071  0.003141  1.000000  0.001469  0.004222\n",
       "x1  -0.001194 -0.004288  0.001469  1.000000 -0.000341\n",
       "x6   0.000913 -0.003414  0.004222 -0.000341  1.000000"
      ]
     },
     "metadata": {},
     "output_type": "display_data"
    },
    {
     "name": "stdout",
     "output_type": "stream",
     "text": [
      "\n",
      "Training set propensity score correlations with X (should be close to 0 for all but x1): \n"
     ]
    },
    {
     "data": {
      "text/html": [
       "<div>\n",
       "<style scoped>\n",
       "    .dataframe tbody tr th:only-of-type {\n",
       "        vertical-align: middle;\n",
       "    }\n",
       "\n",
       "    .dataframe tbody tr th {\n",
       "        vertical-align: top;\n",
       "    }\n",
       "\n",
       "    .dataframe thead th {\n",
       "        text-align: right;\n",
       "    }\n",
       "</style>\n",
       "<table border=\"1\" class=\"dataframe\">\n",
       "  <thead>\n",
       "    <tr style=\"text-align: right;\">\n",
       "      <th></th>\n",
       "      <th>R</th>\n",
       "      <th>p</th>\n",
       "    </tr>\n",
       "  </thead>\n",
       "  <tbody>\n",
       "    <tr>\n",
       "      <th>x8</th>\n",
       "      <td>-0.003182</td>\n",
       "      <td>0.081331</td>\n",
       "    </tr>\n",
       "    <tr>\n",
       "      <th>x15</th>\n",
       "      <td>-0.001169</td>\n",
       "      <td>0.522041</td>\n",
       "    </tr>\n",
       "    <tr>\n",
       "      <th>x9</th>\n",
       "      <td>-0.001550</td>\n",
       "      <td>0.395958</td>\n",
       "    </tr>\n",
       "    <tr>\n",
       "      <th>x1</th>\n",
       "      <td>-0.753204</td>\n",
       "      <td>0.000000</td>\n",
       "    </tr>\n",
       "    <tr>\n",
       "      <th>x6</th>\n",
       "      <td>-0.000638</td>\n",
       "      <td>0.726841</td>\n",
       "    </tr>\n",
       "  </tbody>\n",
       "</table>\n",
       "</div>"
      ],
      "text/plain": [
       "            R         p\n",
       "x8  -0.003182  0.081331\n",
       "x15 -0.001169  0.522041\n",
       "x9  -0.001550  0.395958\n",
       "x1  -0.753204  0.000000\n",
       "x6  -0.000638  0.726841"
      ]
     },
     "metadata": {},
     "output_type": "display_data"
    },
    {
     "name": "stdout",
     "output_type": "stream",
     "text": [
      "\n",
      "Test set propensity score correlations with X (should be close to 0 for all but x1): \n"
     ]
    },
    {
     "data": {
      "text/html": [
       "<div>\n",
       "<style scoped>\n",
       "    .dataframe tbody tr th:only-of-type {\n",
       "        vertical-align: middle;\n",
       "    }\n",
       "\n",
       "    .dataframe tbody tr th {\n",
       "        vertical-align: top;\n",
       "    }\n",
       "\n",
       "    .dataframe thead th {\n",
       "        text-align: right;\n",
       "    }\n",
       "</style>\n",
       "<table border=\"1\" class=\"dataframe\">\n",
       "  <thead>\n",
       "    <tr style=\"text-align: right;\">\n",
       "      <th></th>\n",
       "      <th>R</th>\n",
       "      <th>p</th>\n",
       "    </tr>\n",
       "  </thead>\n",
       "  <tbody>\n",
       "    <tr>\n",
       "      <th>x8</th>\n",
       "      <td>-0.000090</td>\n",
       "      <td>0.977197</td>\n",
       "    </tr>\n",
       "    <tr>\n",
       "      <th>x15</th>\n",
       "      <td>-0.005675</td>\n",
       "      <td>0.072718</td>\n",
       "    </tr>\n",
       "    <tr>\n",
       "      <th>x9</th>\n",
       "      <td>0.004484</td>\n",
       "      <td>0.156236</td>\n",
       "    </tr>\n",
       "    <tr>\n",
       "      <th>x1</th>\n",
       "      <td>-0.751270</td>\n",
       "      <td>0.000000</td>\n",
       "    </tr>\n",
       "    <tr>\n",
       "      <th>x6</th>\n",
       "      <td>-0.001286</td>\n",
       "      <td>0.684161</td>\n",
       "    </tr>\n",
       "  </tbody>\n",
       "</table>\n",
       "</div>"
      ],
      "text/plain": [
       "            R         p\n",
       "x8  -0.000090  0.977197\n",
       "x15 -0.005675  0.072718\n",
       "x9   0.004484  0.156236\n",
       "x1  -0.751270  0.000000\n",
       "x6  -0.001286  0.684161"
      ]
     },
     "metadata": {},
     "output_type": "display_data"
    },
    {
     "name": "stdout",
     "output_type": "stream",
     "text": [
      "Y0 = 2*x1-1?  True\n",
      "Wherever x2>0.1, tau=8?  True\n",
      "Wherever x2<=0.1, tau=0?  True\n"
     ]
    }
   ],
   "source": [
    "# Choose 2 samples of simE to test\n",
    "# Esamps = random.sample(list(np.arange(1,31,1)), n_samps)\n",
    "\n",
    "for samp in samps:\n",
    "    print('\\nTesting Sample {} of Simulation E'.format(samp))\n",
    "    \n",
    "    # Read in test and train\n",
    "    tr = pd.read_parquet(base_repo_dir / 'data' / 'simE' / 'samp{}_train.parquet'.format(samp))\n",
    "    te = pd.read_parquet(base_repo_dir / 'data' / 'simE' / 'samp{}_test.parquet'.format(samp))\n",
    "    \n",
    "    # Read in extra columns\n",
    "    tr_extra = pd.read_parquet(base_repo_dir / 'data' / 'simE' / 'samp{}_train_extra.parquet'.format(samp))\n",
    "    te_extra = pd.read_parquet(base_repo_dir / 'data' / 'simE' / 'samp{}_test_extra.parquet'.format(samp))\n",
    "    \n",
    "    # Concatenate extra cols with regular cols\n",
    "    tr = pd.concat([tr, tr_extra], axis=1)\n",
    "    te = pd.concat([te, te_extra], axis=1)\n",
    "\n",
    "    #Choose 5 X features to test\n",
    "    xfeats = random.sample(list(np.arange(1,21,1)), n_xfeats)\n",
    "    print('Visually check that x{}, x{}, x{}, x{}, and x{} are approximately uniform...'.format(*xfeats))\n",
    "    \n",
    "    fig, ax = plt.subplots(2,n_xfeats, figsize=(12,6), sharey=True)\n",
    "    for i, x in enumerate(xfeats):\n",
    "        ax[0][i].hist(tr['x'+str(x)])\n",
    "        ax[1][i].hist(tr['x'+str(x)])\n",
    "        ax[0][i].set_title('x'+str(x))\n",
    "    ax[0][0].set_ylabel('Training Set Frequency')\n",
    "    ax[1][0].set_ylabel('Test Set Frequency')\n",
    "    plt.show()\n",
    "    \n",
    "    feat_list = ['x'+str(x) for x in xfeats]\n",
    "    \n",
    "    print('Training Set Feature Correlation Matrix (should be 1 along diagonal, and close to 0 elsewhere)')\n",
    "    display(pd.DataFrame(np.corrcoef(tr.values.T[xfeats]),\n",
    "                         index = feat_list, \n",
    "                         columns = feat_list))\n",
    "    \n",
    "    print('\\nTest Set Feature Correlation Matrix (should be 1 along diagonal, and close to 0 elsewhere)')\n",
    "    display(pd.DataFrame(np.corrcoef(te.values.T[xfeats]),\n",
    "                         index = feat_list, \n",
    "                         columns = feat_list))\n",
    "    \n",
    "    if 'x1' in feat_list:\n",
    "        long_feat_list = feat_list\n",
    "    else:\n",
    "        long_feat_list = ['x1'] + feat_list\n",
    "\n",
    "    tr_p_corrs = pd.DataFrame([pearsonr(tr[x], tr['pscore']) for x in long_feat_list], \n",
    "                              columns=['R', 'p'], index=long_feat_list)\n",
    "\n",
    "    print('\\nTraining set propensity score correlations with X (should be close to 0 for all but x1): ')\n",
    "    display(tr_p_corrs)\n",
    "    \n",
    "    te_p_corrs = pd.DataFrame([pearsonr(te[x], te['pscore']) for x in long_feat_list], \n",
    "                              columns=['R', 'p'], index=long_feat_list)\n",
    "\n",
    "    print('\\nTest set propensity score correlations with X (should be close to 0 for all but x1): ')\n",
    "    display(te_p_corrs)\n",
    "    \n",
    "    \n",
    "    print('Y0 = 2*x1-1? ', all(np.isclose(tr.Y0, 2*tr.x1-1)) & all(np.isclose(te.Y0, 2*te.x1-1)))\n",
    "    \n",
    "    print('Wherever x2>0.1, tau=8? ', all(np.isclose(tr[tr.x2>0.1]['tau'],8)) \\\n",
    "                                    & all(np.isclose(te[te.x2>0.1]['tau'],8)))\n",
    "    print('Wherever x2<=0.1, tau=0? ', all(np.isclose(tr[tr.x2<=0.1]['tau'],0)) \\\n",
    "                                    & all(np.isclose(te[te.x2<=0.1]['tau'],0)))\n"
   ]
  },
  {
   "cell_type": "markdown",
   "metadata": {},
   "source": [
    "#### All checks passed."
   ]
  },
  {
   "cell_type": "markdown",
   "metadata": {},
   "source": [
    "## Sim F"
   ]
  },
  {
   "cell_type": "code",
   "execution_count": 9,
   "metadata": {},
   "outputs": [
    {
     "name": "stdout",
     "output_type": "stream",
     "text": [
      "\n",
      "Testing Sample 1 of Simulation F\n",
      "Visually check that x14, x11, x9, x5, and x7 are approximately uniform...\n"
     ]
    },
    {
     "data": {
      "image/png": "[encoded data removed]",
      "text/plain": [
       "<Figure size 864x432 with 10 Axes>"
      ]
     },
     "metadata": {
      "needs_background": "light"
     },
     "output_type": "display_data"
    },
    {
     "name": "stdout",
     "output_type": "stream",
     "text": [
      "Training Set Feature Correlation Matrix (should be 1 along diagonal, and close to 0 elsewhere)\n"
     ]
    },
    {
     "data": {
      "text/html": [
       "<div>\n",
       "<style scoped>\n",
       "    .dataframe tbody tr th:only-of-type {\n",
       "        vertical-align: middle;\n",
       "    }\n",
       "\n",
       "    .dataframe tbody tr th {\n",
       "        vertical-align: top;\n",
       "    }\n",
       "\n",
       "    .dataframe thead th {\n",
       "        text-align: right;\n",
       "    }\n",
       "</style>\n",
       "<table border=\"1\" class=\"dataframe\">\n",
       "  <thead>\n",
       "    <tr style=\"text-align: right;\">\n",
       "      <th></th>\n",
       "      <th>x14</th>\n",
       "      <th>x11</th>\n",
       "      <th>x9</th>\n",
       "      <th>x5</th>\n",
       "      <th>x7</th>\n",
       "    </tr>\n",
       "  </thead>\n",
       "  <tbody>\n",
       "    <tr>\n",
       "      <th>x14</th>\n",
       "      <td>1.000000</td>\n",
       "      <td>-0.004675</td>\n",
       "      <td>0.001672</td>\n",
       "      <td>0.001964</td>\n",
       "      <td>-0.003444</td>\n",
       "    </tr>\n",
       "    <tr>\n",
       "      <th>x11</th>\n",
       "      <td>-0.004675</td>\n",
       "      <td>1.000000</td>\n",
       "      <td>0.002415</td>\n",
       "      <td>0.000440</td>\n",
       "      <td>0.001561</td>\n",
       "    </tr>\n",
       "    <tr>\n",
       "      <th>x9</th>\n",
       "      <td>0.001672</td>\n",
       "      <td>0.002415</td>\n",
       "      <td>1.000000</td>\n",
       "      <td>-0.000811</td>\n",
       "      <td>-0.000571</td>\n",
       "    </tr>\n",
       "    <tr>\n",
       "      <th>x5</th>\n",
       "      <td>0.001964</td>\n",
       "      <td>0.000440</td>\n",
       "      <td>-0.000811</td>\n",
       "      <td>1.000000</td>\n",
       "      <td>0.002120</td>\n",
       "    </tr>\n",
       "    <tr>\n",
       "      <th>x7</th>\n",
       "      <td>-0.003444</td>\n",
       "      <td>0.001561</td>\n",
       "      <td>-0.000571</td>\n",
       "      <td>0.002120</td>\n",
       "      <td>1.000000</td>\n",
       "    </tr>\n",
       "  </tbody>\n",
       "</table>\n",
       "</div>"
      ],
      "text/plain": [
       "          x14       x11        x9        x5        x7\n",
       "x14  1.000000 -0.004675  0.001672  0.001964 -0.003444\n",
       "x11 -0.004675  1.000000  0.002415  0.000440  0.001561\n",
       "x9   0.001672  0.002415  1.000000 -0.000811 -0.000571\n",
       "x5   0.001964  0.000440 -0.000811  1.000000  0.002120\n",
       "x7  -0.003444  0.001561 -0.000571  0.002120  1.000000"
      ]
     },
     "metadata": {},
     "output_type": "display_data"
    },
    {
     "name": "stdout",
     "output_type": "stream",
     "text": [
      "\n",
      "Test Set Feature Correlation Matrix (should be 1 along diagonal, and close to 0 elsewhere)\n"
     ]
    },
    {
     "data": {
      "text/html": [
       "<div>\n",
       "<style scoped>\n",
       "    .dataframe tbody tr th:only-of-type {\n",
       "        vertical-align: middle;\n",
       "    }\n",
       "\n",
       "    .dataframe tbody tr th {\n",
       "        vertical-align: top;\n",
       "    }\n",
       "\n",
       "    .dataframe thead th {\n",
       "        text-align: right;\n",
       "    }\n",
       "</style>\n",
       "<table border=\"1\" class=\"dataframe\">\n",
       "  <thead>\n",
       "    <tr style=\"text-align: right;\">\n",
       "      <th></th>\n",
       "      <th>x14</th>\n",
       "      <th>x11</th>\n",
       "      <th>x9</th>\n",
       "      <th>x5</th>\n",
       "      <th>x7</th>\n",
       "    </tr>\n",
       "  </thead>\n",
       "  <tbody>\n",
       "    <tr>\n",
       "      <th>x14</th>\n",
       "      <td>1.000000</td>\n",
       "      <td>0.010654</td>\n",
       "      <td>-0.002758</td>\n",
       "      <td>-0.004127</td>\n",
       "      <td>-0.007906</td>\n",
       "    </tr>\n",
       "    <tr>\n",
       "      <th>x11</th>\n",
       "      <td>0.010654</td>\n",
       "      <td>1.000000</td>\n",
       "      <td>0.002123</td>\n",
       "      <td>-0.001339</td>\n",
       "      <td>-0.001153</td>\n",
       "    </tr>\n",
       "    <tr>\n",
       "      <th>x9</th>\n",
       "      <td>-0.002758</td>\n",
       "      <td>0.002123</td>\n",
       "      <td>1.000000</td>\n",
       "      <td>0.007123</td>\n",
       "      <td>0.000161</td>\n",
       "    </tr>\n",
       "    <tr>\n",
       "      <th>x5</th>\n",
       "      <td>-0.004127</td>\n",
       "      <td>-0.001339</td>\n",
       "      <td>0.007123</td>\n",
       "      <td>1.000000</td>\n",
       "      <td>0.001007</td>\n",
       "    </tr>\n",
       "    <tr>\n",
       "      <th>x7</th>\n",
       "      <td>-0.007906</td>\n",
       "      <td>-0.001153</td>\n",
       "      <td>0.000161</td>\n",
       "      <td>0.001007</td>\n",
       "      <td>1.000000</td>\n",
       "    </tr>\n",
       "  </tbody>\n",
       "</table>\n",
       "</div>"
      ],
      "text/plain": [
       "          x14       x11        x9        x5        x7\n",
       "x14  1.000000  0.010654 -0.002758 -0.004127 -0.007906\n",
       "x11  0.010654  1.000000  0.002123 -0.001339 -0.001153\n",
       "x9  -0.002758  0.002123  1.000000  0.007123  0.000161\n",
       "x5  -0.004127 -0.001339  0.007123  1.000000  0.001007\n",
       "x7  -0.007906 -0.001153  0.000161  0.001007  1.000000"
      ]
     },
     "metadata": {},
     "output_type": "display_data"
    },
    {
     "name": "stdout",
     "output_type": "stream",
     "text": [
      "Y0 = 2*x1-1?  True\n",
      "Training set propensity score = max(min((confounder + 2*x1)/2, 0.95), 0.05):  True\n",
      "Test set propensity score = max(min((confounder + 2*x1)/2, 0.95), 0.05):  True\n",
      "Wherever x2>0.1, tau=8+2*confounder?  True\n",
      "Wherever x2<=0.1, tau=2*confounder?  True\n"
     ]
    }
   ],
   "source": [
    "# Choose 2 samples of simF to test\n",
    "# Fsamps = random.sample(list(np.arange(1,31,1)), n_samps)\n",
    "\n",
    "for samp in samps:\n",
    "    print('\\nTesting Sample {} of Simulation F'.format(samp))\n",
    "    \n",
    "    # Read in test and train\n",
    "    tr = pd.read_parquet(base_repo_dir / 'data' / 'simF' / 'samp{}_train.parquet'.format(samp))\n",
    "    te = pd.read_parquet(base_repo_dir / 'data' / 'simF' / 'samp{}_test.parquet'.format(samp))\n",
    "    \n",
    "    # Read in extra columns\n",
    "    tr_extra = pd.read_parquet(base_repo_dir / 'data' / 'simF' / 'samp{}_train_extra.parquet'.format(samp))\n",
    "    te_extra = pd.read_parquet(base_repo_dir / 'data' / 'simF' / 'samp{}_test_extra.parquet'.format(samp))\n",
    "    \n",
    "    # Concatenate extra cols with regular cols\n",
    "    tr = pd.concat([tr, tr_extra], axis=1)\n",
    "    te = pd.concat([te, te_extra], axis=1)\n",
    "\n",
    "    #Choose 5 X features to test\n",
    "    xfeats = random.sample(list(np.arange(1,21,1)), n_xfeats)\n",
    "    print('Visually check that x{}, x{}, x{}, x{}, and x{} are approximately uniform...'.format(*xfeats))\n",
    "    \n",
    "    fig, ax = plt.subplots(2,n_xfeats, figsize=(12,6), sharey=True)\n",
    "    for i, x in enumerate(xfeats):\n",
    "        ax[0][i].hist(tr['x'+str(x)])\n",
    "        ax[1][i].hist(tr['x'+str(x)])\n",
    "        ax[0][i].set_title('x'+str(x))\n",
    "    ax[0][0].set_ylabel('Training Set Frequency')\n",
    "    ax[1][0].set_ylabel('Test Set Frequency')\n",
    "    plt.show()\n",
    "    \n",
    "    feat_list = ['x'+str(x) for x in xfeats]\n",
    "    \n",
    "    print('Training Set Feature Correlation Matrix (should be 1 along diagonal, and close to 0 elsewhere)')\n",
    "    display(pd.DataFrame(np.corrcoef(tr.values.T[xfeats]),\n",
    "                         index = feat_list, \n",
    "                         columns = feat_list))\n",
    "    \n",
    "    print('\\nTest Set Feature Correlation Matrix (should be 1 along diagonal, and close to 0 elsewhere)')\n",
    "    display(pd.DataFrame(np.corrcoef(te.values.T[xfeats]),\n",
    "                         index = feat_list, \n",
    "                         columns = feat_list))\n",
    "    \n",
    "    if 'x1' in feat_list:\n",
    "        long_feat_list = feat_list\n",
    "    else:\n",
    "        long_feat_list = ['x1'] + feat_list\n",
    "\n",
    "    tr_p_corrs = pd.DataFrame([pearsonr(tr[x], tr['pscore']) for x in long_feat_list], \n",
    "                              columns=['R', 'p'], index=long_feat_list)\n",
    "\n",
    "    \n",
    "    print('Y0 = 2*x1-1? ', all(np.isclose(tr.Y0, 2*tr.x1-1)) & all(np.isclose(te.Y0, 2*te.x1-1)))\n",
    "    \n",
    "    a_tr = np.array((tr.confounder+2*tr.x1)/2)\n",
    "    amin_tr = np.array([np.full(len(a_tr), 0.95), a_tr])\n",
    "    amax_tr = np.array([np.full(len(a_tr), 0.05), np.min(amin_tr, axis=0)])\n",
    "    print('Training set propensity score = max(min((confounder + 2*x1)/2, 0.95), 0.05): ',\n",
    "            all(np.isclose(tr.pscore, np.max(amax_tr, axis=0))))\n",
    "    \n",
    "    a_te = np.array((te.confounder+2*te.x1)/2)\n",
    "    amin_te = np.array([np.full(len(a_te), 0.95), a_te])\n",
    "    amax_te = np.array([np.full(len(a_te), 0.05), np.min(amin_te, axis=0)])\n",
    "    print('Test set propensity score = max(min((confounder + 2*x1)/2, 0.95), 0.05): ',\n",
    "            all(np.isclose(te.pscore, np.max(amax_te, axis=0))))\n",
    "    \n",
    "    \n",
    "    print('Wherever x2>0.1, tau=8+2*confounder? ', all(np.isclose(tr[tr.x2>0.1]['tau'],\\\n",
    "                                                                 8+2*tr[tr.x2>0.1]['confounder'])) \\\n",
    "                                                 & all(np.isclose(te[te.x2>0.1]['tau'],\\\n",
    "                                                                 8+2*te[te.x2>0.1]['confounder'])))\n",
    "    print('Wherever x2<=0.1, tau=2*confounder? ', all(np.isclose(tr[tr.x2<=0.1]['tau'],\\\n",
    "                                                                 2*tr[tr.x2<=0.1]['confounder'])) \\\n",
    "                                                 & all(np.isclose(te[te.x2<=0.1]['tau'],\\\n",
    "                                                                 2*te[te.x2<=0.1]['confounder'])))\n"
   ]
  },
  {
   "cell_type": "markdown",
   "metadata": {},
   "source": [
    "#### All checks passed."
   ]
  },
  {
   "cell_type": "code",
   "execution_count": null,
   "metadata": {},
   "outputs": [],
   "source": []
  }
 ],
 "metadata": {
  "kernelspec": {
   "display_name": "Python 3",
   "language": "python",
   "name": "python3"
  },
  "language_info": {
   "codemirror_mode": {
    "name": "ipython",
    "version": 3
   },
   "file_extension": ".py",
   "mimetype": "text/x-python",
   "name": "python",
   "nbconvert_exporter": "python",
   "pygments_lexer": "ipython3",
   "version": "3.8.5"
  }
 },
 "nbformat": 4,
 "nbformat_minor": 4
}
