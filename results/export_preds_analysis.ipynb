{
 "cells": [
  {
   "cell_type": "code",
   "execution_count": 1,
   "metadata": {},
   "outputs": [],
   "source": [
    "import pandas as pd\n",
    "import numpy as np"
   ]
  },
  {
   "cell_type": "code",
   "execution_count": 2,
   "metadata": {},
   "outputs": [],
   "source": [
    "# Function to read in y_true, pscore_true, and tau_true from orig data file\n",
    "# Used for X-meta training preds, because those are messed up\n",
    "def get_true_y_p_tau(preds_df, orig_data):\n",
    "    preds_df['y_true'] = orig_data['Y']\n",
    "    preds_df['pscore_true'] = orig_data['pscore']\n",
    "    preds_df['tau_true'] = orig_data['tau']\n",
    "    return preds_df\n",
    "\n",
    "\n",
    "# Function to get potential outcomes (y0 and y1)\n",
    "# from preds_df y_true and tau_true\n",
    "def get_true_potential_outcomes(preds_df):\n",
    "    \n",
    "    # Initialize y0 and y1\n",
    "    preds_df['y0_true'] = np.nan\n",
    "    preds_df['y1_true'] = np.nan\n",
    "    \n",
    "    # Get tau for treat and for control\n",
    "    tau_control = preds_df.loc[preds_df.W==0, 'tau_true']\n",
    "    tau_treat = preds_df.loc[preds_df.W==1, 'tau_true']\n",
    "    \n",
    "    # Get observed outcomes\n",
    "    preds_df.loc[preds_df.W==0, 'y0_true'] = preds_df.loc[preds_df.W==0, 'y_true']\n",
    "    preds_df.loc[preds_df.W==1, 'y1_true'] = preds_df.loc[preds_df.W==1, 'y_true']\n",
    "    \n",
    "    # Reconstruct unobserved outcomes\n",
    "    preds_df.loc[preds_df.W==0, 'y1_true'] = preds_df.loc[preds_df.W==0, 'y0_true'] + tau_control\n",
    "    \n",
    "    preds_df.loc[preds_df.W==1, 'y0_true'] = preds_df.loc[preds_df.W==1, 'y1_true'] - tau_treat\n",
    "    \n",
    "    return preds_df"
   ]
  },
  {
   "cell_type": "code",
   "execution_count": 3,
   "metadata": {},
   "outputs": [],
   "source": [
    "all_configs = ['iw_g_logreg_default', 'iw_g_rfc_default', 'rf_g_logreg_default', \n",
    "                     'rf_g_rfc_default', 'rf_g_rfc_authors', 'rf_g_rfc_tuned']\n",
    "\n",
    "for sim in ['A', 'B', 'C', 'D', 'E', 'F']:\n",
    "    # read in original training set (will be used for X-learner)\n",
    "    train = pd.read_parquet('../data/sim{}/samp1_train.parquet'.format(sim))\n",
    "    for meta in ['S', 'T', 'X']:\n",
    "        for config in all_configs:\n",
    "            # read in test set predictions\n",
    "            test_preds = pd.read_parquet('preds/{}_sim{}_{}_test_preds.parquet'\\\n",
    "                                        .format(meta, sim, config))\n",
    "            # Add y0_true and y1_true columns\n",
    "            test_preds = get_true_potential_outcomes(test_preds)\n",
    "            if meta=='X':\n",
    "                # also read in training predictions\n",
    "                train_preds = pd.read_parquet('preds/{}_sim{}_{}_train_preds.parquet'\\\n",
    "                                              .format(meta, sim, config))\n",
    "                # fix y_true, pscore_true, and tau_true\n",
    "                train_preds = get_true_y_p_tau(train_preds, train)\n",
    "                # Add y0_true and y1_true columns\n",
    "                train_preds = get_true_potential_outcomes(train_preds)\n",
    "                \n",
    "                # TO DO FOR test_preds:\n",
    "                # plot tau_true vs tau_preds\n",
    "                # plot pscore_true vs. pscore_preds\n",
    "                # color code all of above by W \n",
    "                \n",
    "                # TO DO FOR train_preds:\n",
    "                # plot y0_true vs. y0_treat_preds (for people who have W =1)\n",
    "                # plot y1_true vs. y1_control_preds (for people who have W =0)\n",
    "                # color code by W if on same plot\n",
    "                \n",
    "                if config=='iw_g_logreg_default' or config=='iw_g_rfc_default':\n",
    "                    # TO DO FOR train_preds, also add:\n",
    "                    # plot pscore_true vs. pscore_preds\n",
    "                    # color code by W\n",
    "                    pass\n",
    "                \n",
    "            if meta=='T' or meta=='S':\n",
    "                # TO DO FOR test_preds:\n",
    "                # plot y0_true vs y0_preds\n",
    "                # plot y1_true vs. y1_preds\n",
    "                # plot tau_true vs. tau_preds\n",
    "                # color code all of above by W \n",
    "                pass\n",
    "            \n",
    "                        "
   ]
  },
  {
   "cell_type": "code",
   "execution_count": null,
   "metadata": {},
   "outputs": [],
   "source": []
  }
 ],
 "metadata": {
  "kernelspec": {
   "display_name": "Python 3",
   "language": "python",
   "name": "python3"
  },
  "language_info": {
   "codemirror_mode": {
    "name": "ipython",
    "version": 3
   },
   "file_extension": ".py",
   "mimetype": "text/x-python",
   "name": "python",
   "nbconvert_exporter": "python",
   "pygments_lexer": "ipython3",
   "version": "3.8.5"
  }
 },
 "nbformat": 4,
 "nbformat_minor": 4
}
